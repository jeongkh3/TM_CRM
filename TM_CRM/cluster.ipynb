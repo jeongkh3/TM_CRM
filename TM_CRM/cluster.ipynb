{
 "cells": [
  {
   "cell_type": "markdown",
   "metadata": {},
   "source": [
    "# Cluster\n",
    "정기예금 텔레마케팅 캠페인 데이터로부터 고객을 클러스터링합니다."
   ]
  },
  {
   "cell_type": "code",
   "execution_count": 1,
   "metadata": {
    "collapsed": true
   },
   "outputs": [],
   "source": [
    "# enable in-line MatPlotLib\n",
    "%matplotlib inline\n",
    "import matplotlib.pyplot as plt\n",
    "plt.rcParams[\"figure.figsize\"] = (12,6)"
   ]
  },
  {
   "cell_type": "markdown",
   "metadata": {},
   "source": [
    "# Import modules"
   ]
  },
  {
   "cell_type": "code",
   "execution_count": 45,
   "metadata": {
    "collapsed": false
   },
   "outputs": [],
   "source": [
    "import pandas as pd\n",
    "from copy import deepcopy\n",
    "import sys\n",
    "from kmodes import kprototypes\n",
    "from sklearn.preprocessing import MinMaxScaler\n",
    "from util import modify_max_outlier\n",
    "import seaborn as sns\n",
    "import matplotlib.pyplot as plt"
   ]
  },
  {
   "cell_type": "code",
   "execution_count": 38,
   "metadata": {
    "collapsed": true
   },
   "outputs": [],
   "source": [
    "RANDOM_SEED = 99\n",
    "\n",
    "# Read data\n",
    "df = pd.read_csv(\"dataset.tsv\", delimiter='\\t')"
   ]
  },
  {
   "cell_type": "markdown",
   "metadata": {},
   "source": [
    "# Preprocess"
   ]
  },
  {
   "cell_type": "code",
   "execution_count": 39,
   "metadata": {
    "collapsed": true
   },
   "outputs": [],
   "source": [
    "replace_dict = {\n",
    "    \"x4\":{\"저학력\":\"low\", \"중학력\":\"middle\", \"고학력\":\"high\"}\n",
    "    }\n",
    "\n",
    "df.replace(replace_dict, inplace=True)\n",
    "\n",
    "df.drop(['x9', 'x10', 'x11', 'x12', 'x13', 'x14', 'x15', 'y'], axis=1, inplace=True)\n",
    "\n",
    "df[['x1', 'x6']] = df[['x1', 'x6']].astype(float)"
   ]
  },
  {
   "cell_type": "markdown",
   "metadata": {},
   "source": [
    "거리 기반의 알고리즘 사용을 위해서는 scale 조정이 필요합니다. 탐색 단계에서 확인한 x6 변수의 out-lier를 제거하고, numeric data의 스케일을 동일하게 변경합니다. 정규 분포와 가깝지는 않으므로 MinMax방식의 scale 조정을 합니다."
   ]
  },
  {
   "cell_type": "code",
   "execution_count": 40,
   "metadata": {
    "collapsed": false
   },
   "outputs": [],
   "source": [
    "# Modify Out-lier\n",
    "#plotOutlier(df['x6'].sample(1000))\n",
    "df.x6 = modify_max_outlier(df, col='x6', max=6000)\n",
    "\n",
    "raw_df = deepcopy(df)\n",
    "\n",
    "mms = MinMaxScaler()\n",
    "df[['x1', 'x6']] = mms.fit_transform(df[['x1', 'x6']])"
   ]
  },
  {
   "cell_type": "code",
   "execution_count": 41,
   "metadata": {
    "collapsed": false
   },
   "outputs": [
    {
     "data": {
      "text/html": [
       "<div>\n",
       "<table border=\"1\" class=\"dataframe\">\n",
       "  <thead>\n",
       "    <tr style=\"text-align: right;\">\n",
       "      <th></th>\n",
       "      <th>x1</th>\n",
       "      <th>x2</th>\n",
       "      <th>x3</th>\n",
       "      <th>x4</th>\n",
       "      <th>x5</th>\n",
       "      <th>x6</th>\n",
       "      <th>x7</th>\n",
       "      <th>x8</th>\n",
       "    </tr>\n",
       "  </thead>\n",
       "  <tbody>\n",
       "    <tr>\n",
       "      <th>0</th>\n",
       "      <td>0.519481</td>\n",
       "      <td>management</td>\n",
       "      <td>married</td>\n",
       "      <td>high</td>\n",
       "      <td>no</td>\n",
       "      <td>0.357167</td>\n",
       "      <td>yes</td>\n",
       "      <td>no</td>\n",
       "    </tr>\n",
       "    <tr>\n",
       "      <th>1</th>\n",
       "      <td>0.337662</td>\n",
       "      <td>technician</td>\n",
       "      <td>single</td>\n",
       "      <td>middle</td>\n",
       "      <td>no</td>\n",
       "      <td>0.004833</td>\n",
       "      <td>yes</td>\n",
       "      <td>no</td>\n",
       "    </tr>\n",
       "    <tr>\n",
       "      <th>2</th>\n",
       "      <td>0.194805</td>\n",
       "      <td>entrepreneur</td>\n",
       "      <td>married</td>\n",
       "      <td>middle</td>\n",
       "      <td>no</td>\n",
       "      <td>0.000333</td>\n",
       "      <td>yes</td>\n",
       "      <td>yes</td>\n",
       "    </tr>\n",
       "    <tr>\n",
       "      <th>3</th>\n",
       "      <td>0.376623</td>\n",
       "      <td>blue-collar</td>\n",
       "      <td>married</td>\n",
       "      <td>unknown</td>\n",
       "      <td>no</td>\n",
       "      <td>0.251000</td>\n",
       "      <td>yes</td>\n",
       "      <td>no</td>\n",
       "    </tr>\n",
       "    <tr>\n",
       "      <th>4</th>\n",
       "      <td>0.194805</td>\n",
       "      <td>unknown</td>\n",
       "      <td>single</td>\n",
       "      <td>unknown</td>\n",
       "      <td>no</td>\n",
       "      <td>0.000167</td>\n",
       "      <td>no</td>\n",
       "      <td>no</td>\n",
       "    </tr>\n",
       "  </tbody>\n",
       "</table>\n",
       "</div>"
      ],
      "text/plain": [
       "         x1            x2       x3       x4  x5        x6   x7   x8\n",
       "0  0.519481    management  married     high  no  0.357167  yes   no\n",
       "1  0.337662    technician   single   middle  no  0.004833  yes   no\n",
       "2  0.194805  entrepreneur  married   middle  no  0.000333  yes  yes\n",
       "3  0.376623   blue-collar  married  unknown  no  0.251000  yes   no\n",
       "4  0.194805       unknown   single  unknown  no  0.000167   no   no"
      ]
     },
     "execution_count": 41,
     "metadata": {},
     "output_type": "execute_result"
    }
   ],
   "source": [
    "df.head()"
   ]
  },
  {
   "cell_type": "code",
   "execution_count": 42,
   "metadata": {
    "collapsed": false
   },
   "outputs": [
    {
     "data": {
      "text/html": [
       "<div>\n",
       "<table border=\"1\" class=\"dataframe\">\n",
       "  <thead>\n",
       "    <tr style=\"text-align: right;\">\n",
       "      <th></th>\n",
       "      <th>x1</th>\n",
       "      <th>x2</th>\n",
       "      <th>x3</th>\n",
       "      <th>x4</th>\n",
       "      <th>x5</th>\n",
       "      <th>x6</th>\n",
       "      <th>x7</th>\n",
       "      <th>x8</th>\n",
       "    </tr>\n",
       "  </thead>\n",
       "  <tbody>\n",
       "    <tr>\n",
       "      <th>0</th>\n",
       "      <td>58.0</td>\n",
       "      <td>management</td>\n",
       "      <td>married</td>\n",
       "      <td>high</td>\n",
       "      <td>no</td>\n",
       "      <td>2143.0</td>\n",
       "      <td>yes</td>\n",
       "      <td>no</td>\n",
       "    </tr>\n",
       "    <tr>\n",
       "      <th>1</th>\n",
       "      <td>44.0</td>\n",
       "      <td>technician</td>\n",
       "      <td>single</td>\n",
       "      <td>middle</td>\n",
       "      <td>no</td>\n",
       "      <td>29.0</td>\n",
       "      <td>yes</td>\n",
       "      <td>no</td>\n",
       "    </tr>\n",
       "    <tr>\n",
       "      <th>2</th>\n",
       "      <td>33.0</td>\n",
       "      <td>entrepreneur</td>\n",
       "      <td>married</td>\n",
       "      <td>middle</td>\n",
       "      <td>no</td>\n",
       "      <td>2.0</td>\n",
       "      <td>yes</td>\n",
       "      <td>yes</td>\n",
       "    </tr>\n",
       "    <tr>\n",
       "      <th>3</th>\n",
       "      <td>47.0</td>\n",
       "      <td>blue-collar</td>\n",
       "      <td>married</td>\n",
       "      <td>unknown</td>\n",
       "      <td>no</td>\n",
       "      <td>1506.0</td>\n",
       "      <td>yes</td>\n",
       "      <td>no</td>\n",
       "    </tr>\n",
       "    <tr>\n",
       "      <th>4</th>\n",
       "      <td>33.0</td>\n",
       "      <td>unknown</td>\n",
       "      <td>single</td>\n",
       "      <td>unknown</td>\n",
       "      <td>no</td>\n",
       "      <td>1.0</td>\n",
       "      <td>no</td>\n",
       "      <td>no</td>\n",
       "    </tr>\n",
       "  </tbody>\n",
       "</table>\n",
       "</div>"
      ],
      "text/plain": [
       "     x1            x2       x3       x4  x5      x6   x7   x8\n",
       "0  58.0    management  married     high  no  2143.0  yes   no\n",
       "1  44.0    technician   single   middle  no    29.0  yes   no\n",
       "2  33.0  entrepreneur  married   middle  no     2.0  yes  yes\n",
       "3  47.0   blue-collar  married  unknown  no  1506.0  yes   no\n",
       "4  33.0       unknown   single  unknown  no     1.0   no   no"
      ]
     },
     "execution_count": 42,
     "metadata": {},
     "output_type": "execute_result"
    }
   ],
   "source": [
    "raw_df.head()"
   ]
  },
  {
   "cell_type": "markdown",
   "metadata": {},
   "source": [
    "# Clustering algorithm\n",
    "k-prototype 알고리즘을 사용합니다. (참고: https://grid.cs.gsu.edu/~wkim/index_files/papers/kprototype.pdf) (라이브러리: https://github.com/nicodv/kmodes) numeric data만으로 이루어진 경우에는 k-means를, categorical data만으로 이루어진 경우는 k-modes 알고리즘을 사용가능합니다. 현재 데이터는 혼합된 형태입니다. 먼저 적절한 cluster의 수(k)를 찾습니다. 알고리즘 수행 시간을 줄이기 위해 sampling을 사용합니다."
   ]
  },
  {
   "cell_type": "code",
   "execution_count": 43,
   "metadata": {
    "collapsed": true
   },
   "outputs": [],
   "source": [
    "X_sample = df.sample(n=4000, replace=False, random_state=RANDOM_SEED)"
   ]
  },
  {
   "cell_type": "code",
   "execution_count": 46,
   "metadata": {
    "collapsed": false
   },
   "outputs": [
    {
     "data": {
      "image/png": "[encoded data removed]",
      "text/plain": [
       "<matplotlib.figure.Figure at 0x11a9c17f0>"
      ]
     },
     "metadata": {},
     "output_type": "display_data"
    }
   ],
   "source": [
    "# Run algorithm with the different number of clusters\n",
    "k_range = range(2, 16, 2)\n",
    "cost = []\n",
    "for k in k_range:\n",
    "    kproto = kprototypes.KPrototypes(n_clusters=k, init='Cao')\n",
    "    clusters = kproto.fit_predict(X_sample.as_matrix(), categorical=[1, 2, 3, 4, 6, 7])\n",
    "    cost.append(kproto.cost_)\n",
    "\n",
    "# Plot cost with the number of clusters\n",
    "sns.set_style('whitegrid')\n",
    "plt.plot(k_range, cost)\n",
    "plt.xlabel('k: # of clusters')\n",
    "plt.ylabel('cost')\n",
    "sns.plt.show()"
   ]
  },
  {
   "cell_type": "markdown",
   "metadata": {},
   "source": [
    "Cluster 수를 결정하기 위해서 가장 간단한 방법인 The Elbow Method를 사용합니다. 일반적으로는 이 방법으로 대략적인 cluster의 범위를 구하고 F-test 또는 ANOVA Test를 통해서 cluster의 적절성 여부를 판단합니다. 현재 데이터는 dummy variable이 다수 발생하고, sample이 표준 분포를 따른다고 보기 어렵기 때문에 생략하였습니다. (참고: https://en.wikipedia.org/wiki/Determining_the_number_of_clusters_in_a_data_set)"
   ]
  },
  {
   "cell_type": "markdown",
   "metadata": {},
   "source": [
    "# Clustering Result"
   ]
  },
  {
   "cell_type": "code",
   "execution_count": 47,
   "metadata": {
    "collapsed": false
   },
   "outputs": [
    {
     "name": "stdout",
     "output_type": "stream",
     "text": [
      "8957.03684561\n",
      "[array([[ 0.28646845,  0.11936608],\n",
      "       [ 0.33381227,  0.80120348],\n",
      "       [ 0.40156671,  0.12011778],\n",
      "       [ 0.21263012,  0.10513367]]), array([['management', 'married', 'middle', 'no', 'yes', 'no'],\n",
      "       ['management', 'married', 'high', 'no', 'no', 'no'],\n",
      "       ['blue-collar', 'married', 'low', 'no', 'no', 'no'],\n",
      "       ['technician', 'single', 'middle', 'no', 'no', 'no']], \n",
      "      dtype='<U11')]\n"
     ]
    }
   ],
   "source": [
    "# Run algorithm with whole data\n",
    "kp = kprototypes.KPrototypes(n_clusters=4, init='Cao')\n",
    "kp_clusters = kp.fit_predict(df.as_matrix(), categorical=[1, 2, 3, 4, 6, 7])\n",
    "\n",
    "# Print training statistics\n",
    "print(kp.cost_)\n",
    "# Print cluster centroids of the trained model.\n",
    "print(kp.cluster_centroids_)"
   ]
  },
  {
   "cell_type": "markdown",
   "metadata": {},
   "source": [
    "총 4개의 cluster로 진행했으며 각 cluster에 대한 대표적인 특징을 개인신상과 재무상태로 나누어 보면 다음과 같습니다.\n",
    "\n",
    "Cluster 0: 40대/경영직군/기혼/중학력 + 잔고 약700만원/주택자금대출(유)\n",
    "\n",
    "Cluster 1: 40대/경영직군/기혼/고학력 + 잔고 약5000만원/대출(무)\n",
    "\n",
    "Cluster 2: 40대/생산직/기혼/저학력 + 잔고 약700만원/대출(무)\n",
    "\n",
    "Cluster 3: 30대/기술직/미혼/중학력 + 잔고 약600만원/대출(무)\n"
   ]
  },
  {
   "cell_type": "code",
   "execution_count": 48,
   "metadata": {
    "collapsed": false
   },
   "outputs": [
    {
     "name": "stdout",
     "output_type": "stream",
     "text": [
      "\n",
      " Cluster: 0\n",
      "                 x1            x6  cluster\n",
      "count  14999.000000  14999.000000  14999.0\n",
      "mean      40.058071    716.196480      0.0\n",
      "std        8.296819    782.284444      0.0\n",
      "min       21.000000      0.000000      0.0\n",
      "25%       34.000000    123.000000      0.0\n",
      "50%       39.000000    440.000000      0.0\n",
      "75%       45.000000   1057.000000      0.0\n",
      "max       78.000000   3778.000000      0.0\n",
      "\n",
      " Cluster: 1\n",
      "                x1           x6  cluster\n",
      "count  5360.000000  5360.000000   5360.0\n",
      "mean     43.703545  4807.220896      1.0\n",
      "std      11.407104  1228.137095      0.0\n",
      "min      19.000000  1781.000000      1.0\n",
      "25%      34.000000  3796.750000      1.0\n",
      "50%      42.000000  5062.000000      1.0\n",
      "75%      52.000000  6000.000000      1.0\n",
      "max      87.000000  6000.000000      1.0\n",
      "\n",
      " Cluster: 2\n",
      "                x1           x6  cluster\n",
      "count  9110.000000  9110.000000   9110.0\n",
      "mean     48.920637   720.706696      2.0\n",
      "std      10.907930   796.821324      0.0\n",
      "min      20.000000     0.000000      2.0\n",
      "25%      42.000000   104.000000      2.0\n",
      "50%      49.000000   420.000000      2.0\n",
      "75%      56.000000  1097.000000      2.0\n",
      "max      95.000000  3820.000000      2.0\n",
      "\n",
      " Cluster: 3\n",
      "                 x1            x6  cluster\n",
      "count  10531.000000  10531.000000  10531.0\n",
      "mean      34.372519    630.802013      3.0\n",
      "std        8.261109    742.616096      0.0\n",
      "min       18.000000      0.000000      3.0\n",
      "25%       29.000000     93.500000      3.0\n",
      "50%       32.000000    354.000000      3.0\n",
      "75%       38.000000    886.500000      3.0\n",
      "max       86.000000   4136.000000      3.0\n"
     ]
    }
   ],
   "source": [
    "# Add a column for convenience\n",
    "raw_df['cluster'] = kp_clusters\n",
    "\n",
    "for i in sorted(list(set(kp_clusters))):\n",
    "    print('\\n Cluster: %i'%(i))\n",
    "    print(raw_df[raw_df['cluster']==i].describe())"
   ]
  },
  {
   "cell_type": "markdown",
   "metadata": {},
   "source": [
    "\n",
    "Cluster 0은 가장 많은 숫자를 차지하고 있으며 일반적인 예금 고객을 나타낸다고 볼 수 있습니다."
   ]
  },
  {
   "cell_type": "code",
   "execution_count": 49,
   "metadata": {
    "collapsed": true
   },
   "outputs": [],
   "source": [
    "# Function to make table with variables and clusters\n",
    "def make_cluster_df(data, col, clusters, cluster_col_name='cluster'):\n",
    "    data_list = []\n",
    "    for i in sorted(list(set(clusters))):\n",
    "        data_list.append(data[data[cluster_col_name]==i].groupby(col).size().values.tolist())\n",
    "    \n",
    "    new_df = pd.DataFrame(data_list)\n",
    "    new_df.columns = data[col].unique().tolist()\n",
    "    return new_df"
   ]
  },
  {
   "cell_type": "code",
   "execution_count": 51,
   "metadata": {
    "collapsed": false
   },
   "outputs": [
    {
     "data": {
      "text/html": [
       "<div>\n",
       "<table border=\"1\" class=\"dataframe\">\n",
       "  <thead>\n",
       "    <tr style=\"text-align: right;\">\n",
       "      <th></th>\n",
       "      <th>management</th>\n",
       "      <th>technician</th>\n",
       "      <th>entrepreneur</th>\n",
       "      <th>blue-collar</th>\n",
       "      <th>unknown</th>\n",
       "      <th>retired</th>\n",
       "      <th>admin.</th>\n",
       "      <th>services</th>\n",
       "      <th>self-employed</th>\n",
       "      <th>unemployed</th>\n",
       "      <th>housemaid</th>\n",
       "      <th>student</th>\n",
       "    </tr>\n",
       "  </thead>\n",
       "  <tbody>\n",
       "    <tr>\n",
       "      <th>0</th>\n",
       "      <td>2016</td>\n",
       "      <td>2735</td>\n",
       "      <td>600</td>\n",
       "      <td>246</td>\n",
       "      <td>4693</td>\n",
       "      <td>256</td>\n",
       "      <td>470</td>\n",
       "      <td>1685</td>\n",
       "      <td>27</td>\n",
       "      <td>1897</td>\n",
       "      <td>354</td>\n",
       "      <td>20</td>\n",
       "    </tr>\n",
       "    <tr>\n",
       "      <th>1</th>\n",
       "      <td>445</td>\n",
       "      <td>695</td>\n",
       "      <td>176</td>\n",
       "      <td>158</td>\n",
       "      <td>1856</td>\n",
       "      <td>397</td>\n",
       "      <td>242</td>\n",
       "      <td>315</td>\n",
       "      <td>104</td>\n",
       "      <td>767</td>\n",
       "      <td>160</td>\n",
       "      <td>45</td>\n",
       "    </tr>\n",
       "    <tr>\n",
       "      <th>2</th>\n",
       "      <td>588</td>\n",
       "      <td>3906</td>\n",
       "      <td>321</td>\n",
       "      <td>607</td>\n",
       "      <td>878</td>\n",
       "      <td>1303</td>\n",
       "      <td>335</td>\n",
       "      <td>460</td>\n",
       "      <td>12</td>\n",
       "      <td>245</td>\n",
       "      <td>301</td>\n",
       "      <td>154</td>\n",
       "    </tr>\n",
       "    <tr>\n",
       "      <th>3</th>\n",
       "      <td>1475</td>\n",
       "      <td>976</td>\n",
       "      <td>223</td>\n",
       "      <td>142</td>\n",
       "      <td>1164</td>\n",
       "      <td>104</td>\n",
       "      <td>395</td>\n",
       "      <td>1085</td>\n",
       "      <td>756</td>\n",
       "      <td>3780</td>\n",
       "      <td>375</td>\n",
       "      <td>56</td>\n",
       "    </tr>\n",
       "  </tbody>\n",
       "</table>\n",
       "</div>"
      ],
      "text/plain": [
       "   management  technician  entrepreneur  blue-collar  unknown  retired  \\\n",
       "0        2016        2735           600          246     4693      256   \n",
       "1         445         695           176          158     1856      397   \n",
       "2         588        3906           321          607      878     1303   \n",
       "3        1475         976           223          142     1164      104   \n",
       "\n",
       "   admin.  services  self-employed  unemployed  housemaid  student  \n",
       "0     470      1685             27        1897        354       20  \n",
       "1     242       315            104         767        160       45  \n",
       "2     335       460             12         245        301      154  \n",
       "3     395      1085            756        3780        375       56  "
      ]
     },
     "execution_count": 51,
     "metadata": {},
     "output_type": "execute_result"
    }
   ],
   "source": [
    "# Show incidences of each category and cluster\n",
    "x2_df = make_cluster_df(data=raw_df, col='x2', clusters=kp_clusters, cluster_col_name='cluster')\n",
    "x2_df"
   ]
  },
  {
   "cell_type": "markdown",
   "metadata": {},
   "source": [
    "Cluster 3의 centroid 결과는 technician이지만, 다양한 직종에 고루 분포해 있고 uneployed 비율이 높은 것으로 볼 때 사회 초년생이나 취업준비생으로 해석할 수 있습니다."
   ]
  },
  {
   "cell_type": "code",
   "execution_count": 52,
   "metadata": {
    "collapsed": false
   },
   "outputs": [
    {
     "data": {
      "text/html": [
       "<div>\n",
       "<table border=\"1\" class=\"dataframe\">\n",
       "  <thead>\n",
       "    <tr style=\"text-align: right;\">\n",
       "      <th></th>\n",
       "      <th>married</th>\n",
       "      <th>single</th>\n",
       "      <th>divorced</th>\n",
       "    </tr>\n",
       "  </thead>\n",
       "  <tbody>\n",
       "    <tr>\n",
       "      <th>0</th>\n",
       "      <td>1931</td>\n",
       "      <td>11290</td>\n",
       "      <td>1778</td>\n",
       "    </tr>\n",
       "    <tr>\n",
       "      <th>1</th>\n",
       "      <td>554</td>\n",
       "      <td>3477</td>\n",
       "      <td>1329</td>\n",
       "    </tr>\n",
       "    <tr>\n",
       "      <th>2</th>\n",
       "      <td>927</td>\n",
       "      <td>7653</td>\n",
       "      <td>530</td>\n",
       "    </tr>\n",
       "    <tr>\n",
       "      <th>3</th>\n",
       "      <td>1075</td>\n",
       "      <td>1696</td>\n",
       "      <td>7760</td>\n",
       "    </tr>\n",
       "  </tbody>\n",
       "</table>\n",
       "</div>"
      ],
      "text/plain": [
       "   married  single  divorced\n",
       "0     1931   11290      1778\n",
       "1      554    3477      1329\n",
       "2      927    7653       530\n",
       "3     1075    1696      7760"
      ]
     },
     "execution_count": 52,
     "metadata": {},
     "output_type": "execute_result"
    }
   ],
   "source": [
    "x3_df = make_cluster_df(data=raw_df, col='x3', clusters=kp_clusters, cluster_col_name='cluster')\n",
    "x3_df"
   ]
  },
  {
   "cell_type": "markdown",
   "metadata": {},
   "source": [
    "미혼일 확률은 Cluster 2가 가장 높으며, 이혼했을 확률은 Cluster 3이 제일 높게 나타납니다."
   ]
  },
  {
   "cell_type": "code",
   "execution_count": 53,
   "metadata": {
    "collapsed": false
   },
   "outputs": [
    {
     "data": {
      "text/html": [
       "<div>\n",
       "<table border=\"1\" class=\"dataframe\">\n",
       "  <thead>\n",
       "    <tr style=\"text-align: right;\">\n",
       "      <th></th>\n",
       "      <th>high</th>\n",
       "      <th>middle</th>\n",
       "      <th>unknown</th>\n",
       "      <th>low</th>\n",
       "    </tr>\n",
       "  </thead>\n",
       "  <tbody>\n",
       "    <tr>\n",
       "      <th>0</th>\n",
       "      <td>4911</td>\n",
       "      <td>461</td>\n",
       "      <td>9167</td>\n",
       "      <td>460</td>\n",
       "    </tr>\n",
       "    <tr>\n",
       "      <th>1</th>\n",
       "      <td>2538</td>\n",
       "      <td>654</td>\n",
       "      <td>1911</td>\n",
       "      <td>257</td>\n",
       "    </tr>\n",
       "    <tr>\n",
       "      <th>2</th>\n",
       "      <td>1686</td>\n",
       "      <td>4772</td>\n",
       "      <td>2077</td>\n",
       "      <td>575</td>\n",
       "    </tr>\n",
       "    <tr>\n",
       "      <th>3</th>\n",
       "      <td>3001</td>\n",
       "      <td>158</td>\n",
       "      <td>6997</td>\n",
       "      <td>375</td>\n",
       "    </tr>\n",
       "  </tbody>\n",
       "</table>\n",
       "</div>"
      ],
      "text/plain": [
       "   high  middle  unknown  low\n",
       "0  4911     461     9167  460\n",
       "1  2538     654     1911  257\n",
       "2  1686    4772     2077  575\n",
       "3  3001     158     6997  375"
      ]
     },
     "execution_count": 53,
     "metadata": {},
     "output_type": "execute_result"
    }
   ],
   "source": [
    "x4_df = make_cluster_df(data=raw_df, col='x4', clusters=kp_clusters, cluster_col_name='cluster')\n",
    "x4_df"
   ]
  },
  {
   "cell_type": "markdown",
   "metadata": {},
   "source": [
    "Cluster 0,1,3의 학력이 대체로 높고 Cluster 2의 학력은 상대적으로 낮은편입니다."
   ]
  },
  {
   "cell_type": "code",
   "execution_count": 54,
   "metadata": {
    "collapsed": false
   },
   "outputs": [
    {
     "data": {
      "text/html": [
       "<div>\n",
       "<table border=\"1\" class=\"dataframe\">\n",
       "  <thead>\n",
       "    <tr style=\"text-align: right;\">\n",
       "      <th></th>\n",
       "      <th>no</th>\n",
       "      <th>yes</th>\n",
       "    </tr>\n",
       "  </thead>\n",
       "  <tbody>\n",
       "    <tr>\n",
       "      <th>0</th>\n",
       "      <td>14863</td>\n",
       "      <td>136</td>\n",
       "    </tr>\n",
       "    <tr>\n",
       "      <th>1</th>\n",
       "      <td>5357</td>\n",
       "      <td>3</td>\n",
       "    </tr>\n",
       "    <tr>\n",
       "      <th>2</th>\n",
       "      <td>9017</td>\n",
       "      <td>93</td>\n",
       "    </tr>\n",
       "    <tr>\n",
       "      <th>3</th>\n",
       "      <td>10398</td>\n",
       "      <td>133</td>\n",
       "    </tr>\n",
       "  </tbody>\n",
       "</table>\n",
       "</div>"
      ],
      "text/plain": [
       "      no  yes\n",
       "0  14863  136\n",
       "1   5357    3\n",
       "2   9017   93\n",
       "3  10398  133"
      ]
     },
     "execution_count": 54,
     "metadata": {},
     "output_type": "execute_result"
    }
   ],
   "source": [
    "x5_df = make_cluster_df(data=raw_df, col='x5', clusters=kp_clusters, cluster_col_name='cluster')\n",
    "x5_df"
   ]
  },
  {
   "cell_type": "markdown",
   "metadata": {},
   "source": [
    "채무 불이행 측면에서는 유의할만한 차이점이 보이지 않습니다."
   ]
  },
  {
   "cell_type": "code",
   "execution_count": 55,
   "metadata": {
    "collapsed": false
   },
   "outputs": [
    {
     "data": {
      "text/html": [
       "<div>\n",
       "<table border=\"1\" class=\"dataframe\">\n",
       "  <thead>\n",
       "    <tr style=\"text-align: right;\">\n",
       "      <th></th>\n",
       "      <th>yes</th>\n",
       "      <th>no</th>\n",
       "    </tr>\n",
       "  </thead>\n",
       "  <tbody>\n",
       "    <tr>\n",
       "      <th>0</th>\n",
       "      <td>1641</td>\n",
       "      <td>13358</td>\n",
       "    </tr>\n",
       "    <tr>\n",
       "      <th>1</th>\n",
       "      <td>3099</td>\n",
       "      <td>2261</td>\n",
       "    </tr>\n",
       "    <tr>\n",
       "      <th>2</th>\n",
       "      <td>6518</td>\n",
       "      <td>2592</td>\n",
       "    </tr>\n",
       "    <tr>\n",
       "      <th>3</th>\n",
       "      <td>7156</td>\n",
       "      <td>3375</td>\n",
       "    </tr>\n",
       "  </tbody>\n",
       "</table>\n",
       "</div>"
      ],
      "text/plain": [
       "    yes     no\n",
       "0  1641  13358\n",
       "1  3099   2261\n",
       "2  6518   2592\n",
       "3  7156   3375"
      ]
     },
     "execution_count": 55,
     "metadata": {},
     "output_type": "execute_result"
    }
   ],
   "source": [
    "x7_df = make_cluster_df(data=raw_df, col='x7', clusters=kp_clusters, cluster_col_name='cluster')\n",
    "x7_df"
   ]
  },
  {
   "cell_type": "markdown",
   "metadata": {},
   "source": [
    "Cluster 3으로 갈수록 주택자금대출 확률이 높아집니다. Cluster 3의 상대적으로 높은 이혼율 및 실업률과 연관지어볼 수 있습니다."
   ]
  },
  {
   "cell_type": "code",
   "execution_count": 56,
   "metadata": {
    "collapsed": false
   },
   "outputs": [
    {
     "data": {
      "text/html": [
       "<div>\n",
       "<table border=\"1\" class=\"dataframe\">\n",
       "  <thead>\n",
       "    <tr style=\"text-align: right;\">\n",
       "      <th></th>\n",
       "      <th>no</th>\n",
       "      <th>yes</th>\n",
       "    </tr>\n",
       "  </thead>\n",
       "  <tbody>\n",
       "    <tr>\n",
       "      <th>0</th>\n",
       "      <td>12369</td>\n",
       "      <td>2630</td>\n",
       "    </tr>\n",
       "    <tr>\n",
       "      <th>1</th>\n",
       "      <td>4936</td>\n",
       "      <td>424</td>\n",
       "    </tr>\n",
       "    <tr>\n",
       "      <th>2</th>\n",
       "      <td>7798</td>\n",
       "      <td>1312</td>\n",
       "    </tr>\n",
       "    <tr>\n",
       "      <th>3</th>\n",
       "      <td>9086</td>\n",
       "      <td>1445</td>\n",
       "    </tr>\n",
       "  </tbody>\n",
       "</table>\n",
       "</div>"
      ],
      "text/plain": [
       "      no   yes\n",
       "0  12369  2630\n",
       "1   4936   424\n",
       "2   7798  1312\n",
       "3   9086  1445"
      ]
     },
     "execution_count": 56,
     "metadata": {},
     "output_type": "execute_result"
    }
   ],
   "source": [
    "x8_df = make_cluster_df(data=raw_df, col='x8', clusters=kp_clusters, cluster_col_name='cluster')\n",
    "x8_df"
   ]
  },
  {
   "cell_type": "markdown",
   "metadata": {},
   "source": [
    "신용대출 여부 비율을 비교할 때 Cluster 1의 신용 상태가 좋은 것으로 나타납니다."
   ]
  }
 ],
 "metadata": {
  "kernelspec": {
   "display_name": "Python 3",
   "language": "python",
   "name": "python3"
  },
  "language_info": {
   "codemirror_mode": {
    "name": "ipython",
    "version": 3
   },
   "file_extension": ".py",
   "mimetype": "text/x-python",
   "name": "python",
   "nbconvert_exporter": "python",
   "pygments_lexer": "ipython3",
   "version": "3.6.0"
  }
 },
 "nbformat": 4,
 "nbformat_minor": 2
}
